{
 "cells": [
  {
   "cell_type": "code",
   "execution_count": 1,
   "metadata": {},
   "outputs": [],
   "source": [
    "import numpy as np\n",
    "import seaborn as sns\n",
    "import matplotlib.pyplot as plt\n",
    "from sklearn.metrics import confusion_matrix\n",
    "from sklearn.model_selection import train_test_split"
   ]
  },
  {
   "cell_type": "code",
   "execution_count": 2,
   "metadata": {},
   "outputs": [],
   "source": [
    "def get_data(file_path):\n",
    "    data = np.loadtxt(file_path, delimiter=',', skiprows=1)\n",
    "    x = np.array([np.append(1, row) for row in data[:, :-1]])\n",
    "    y = np.array([1 if label >= 7 else 0 for label in data[:, -1]])\n",
    "    return x, y\n",
    "\n",
    "\n",
    "def standardize(data):\n",
    "    mean = np.mean(data[:, 1:], axis=0)\n",
    "    std_dev = np.std(data[:, 1:], axis=0)\n",
    "    z = np.array([(row - mean) / std_dev for row in data[:, 1:]])\n",
    "\n",
    "    return np.column_stack((data[:, 0], z))\n",
    "\n",
    "\n",
    "def sigmoid(z):\n",
    "    return 1 / (1 + np.exp(-z))\n",
    "\n",
    "\n",
    "def threshold(a):\n",
    "    if a >= 0.5:\n",
    "        return 1\n",
    "    else:\n",
    "        return 0\n",
    "\n",
    "\n",
    "def cost_function(data, labels, weights):\n",
    "    m = len(labels)\n",
    "    h_x = sigmoid(np.dot(data, weights))\n",
    "    cost = np.dot(-labels, np.log(h_x)) - np.dot((1 - labels), np.log(1 - h_x))\n",
    "    return cost / m\n",
    "\n",
    "\n",
    "def gradient(data, labels, weights):\n",
    "    m = len(labels)\n",
    "    h_x = sigmoid(np.dot(data, weights))\n",
    "    grads = np.zeros(shape=weights.shape)\n",
    "    for i, grad in enumerate(grads):\n",
    "        grads[i] = np.sum((h_x - labels).dot(data[:, i])) / m\n",
    "\n",
    "    return grads\n",
    "\n",
    "\n",
    "def BGD(data, labels, learning_rate, epochs):\n",
    "    J = []\n",
    "    thetas = np.zeros(shape=data[0].shape)\n",
    "    for _ in range(epochs):\n",
    "        thetas[:] -= learning_rate * gradient(data=data, labels=labels, weights=thetas)\n",
    "        J.append(cost_function(data=data, labels=labels, weights=thetas))\n",
    "\n",
    "    return J, thetas\n",
    "\n",
    "\n",
    "def plot_error(error):\n",
    "    sns.set_style(style='darkgrid')\n",
    "    plt.plot(error)\n",
    "    plt.xlabel(\"Iterations\")\n",
    "    plt.ylabel(\"Error\")\n",
    "    plt.title(\"Cost Function\")\n",
    "    plt.show()\n",
    "\n",
    "\n",
    "def predict(x, y, weights):\n",
    "    count = 0\n",
    "    preds = [threshold(sigmoid(np.dot(row, weights))) for row in x]\n",
    "    for i in range(len(preds)):\n",
    "        if preds[i] == y[i]:\n",
    "            count += 1\n",
    "\n",
    "    return preds, count\n",
    "\n",
    "\n",
    "def RMSE(predictions, actual):\n",
    "    rmse = np.sum(np.square(predictions - actual)) / len(actual)\n",
    "    return np.sqrt(rmse)"
   ]
  },
  {
   "cell_type": "code",
   "execution_count": 3,
   "metadata": {},
   "outputs": [],
   "source": [
    "def main():\n",
    "    X, y = get_data(file_path='./winequality-red.csv')\n",
    "    std_X = standardize(data=X)\n",
    "    x_train, x_test, y_train, y_test = train_test_split(std_X, y, test_size=0.2, shuffle=True, random_state=42)\n",
    "    J, thetas = BGD(data=x_train, labels=y_train, learning_rate=0.01, epochs=5000)\n",
    "    plot_error(error=J)\n",
    "    predictions, correct_nums = predict(x=x_test, y=y_test, weights=thetas)\n",
    "    print(\"Accuracy: {}\".format((correct_nums / len(y_test)) * 100))\n",
    "    print(\"RMSE: {}\".format(RMSE(predictions=predictions, actual=y_test)))\n",
    "\n",
    "    tn, fp, fn, tp = confusion_matrix(y_true=y_test, y_pred=predictions, labels=[0, 1]).ravel()\n",
    "    print(f\"\\nTrue Negatives: {tn}\\nTrue Positives: {tp}\\nFalse Negative: {fn}\\nFalse Positive: {fp}\")\n",
    "    sns.heatmap(confusion_matrix(predictions, y_test), robust=True, annot=True)\n",
    "    plt.show()"
   ]
  },
  {
   "cell_type": "code",
   "execution_count": 4,
   "metadata": {},
   "outputs": [
    {
     "data": {
      "image/png": "[encoded data removed]",
      "text/plain": [
       "<Figure size 432x288 with 1 Axes>"
      ]
     },
     "metadata": {},
     "output_type": "display_data"
    },
    {
     "name": "stdout",
     "output_type": "stream",
     "text": [
      "Accuracy: 86.875\n",
      "RMSE: 0.362284418654736\n",
      "\n",
      "True Negatives: 265\n",
      "True Positives: 13\n",
      "False Negative: 34\n",
      "False Positive: 8\n"
     ]
    },
    {
     "data": {
      "image/png": "[encoded data removed]",
      "text/plain": [
       "<Figure size 432x288 with 2 Axes>"
      ]
     },
     "metadata": {},
     "output_type": "display_data"
    }
   ],
   "source": [
    "if __name__ == '__main__':\n",
    "    main()"
   ]
  },
  {
   "cell_type": "code",
   "execution_count": null,
   "metadata": {},
   "outputs": [],
   "source": []
  }
 ],
 "metadata": {
  "kernelspec": {
   "display_name": "Python 3.7 (tensorflow)",
   "language": "python",
   "name": "tensorflow"
  },
  "language_info": {
   "codemirror_mode": {
    "name": "ipython",
    "version": 3
   },
   "file_extension": ".py",
   "mimetype": "text/x-python",
   "name": "python",
   "nbconvert_exporter": "python",
   "pygments_lexer": "ipython3",
   "version": "3.7.9"
  }
 },
 "nbformat": 4,
 "nbformat_minor": 4
}
